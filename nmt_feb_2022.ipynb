{
  "nbformat": 4,
  "nbformat_minor": 0,
  "metadata": {
    "colab": {
      "name": "nmt-feb-2022.ipynb",
      "provenance": [],
      "collapsed_sections": [],
      "mount_file_id": "1SXkcJhR1jq0xA1hkufDxlFdXg3W50Ylr",
      "authorship_tag": "ABX9TyON3cGPwuExfemNBQcTOu7G",
      "include_colab_link": true
    },
    "kernelspec": {
      "name": "python3",
      "display_name": "Python 3"
    },
    "language_info": {
      "name": "python"
    }
  },
  "cells": [
    {
      "cell_type": "markdown",
      "metadata": {
        "id": "view-in-github",
        "colab_type": "text"
      },
      "source": [
        "<a href=\"https://colab.research.google.com/github/navilindo/IUA/blob/main/nmt_feb_2022.ipynb\" target=\"_parent\"><img src=\"https://colab.research.google.com/assets/colab-badge.svg\" alt=\"Open In Colab\"/></a>"
      ]
    },
    {
      "cell_type": "code",
      "execution_count": 1,
      "metadata": {
        "id": "q0DbA7fCeswk"
      },
      "outputs": [],
      "source": [
        "import pandas as pd\n",
        "import numpy as np \n",
        "import string"
      ]
    },
    {
      "cell_type": "code",
      "source": [
        "# using pandas to reas and open data\n",
        "df1 = pd.read_csv(\"/content/drive/MyDrive/Colab Notebooks/nlp-data/short/arabic_english.txt\",delimiter=\"\\t\",names=[\"eng\",\"ar\"])\n",
        "df1"
      ],
      "metadata": {
        "colab": {
          "base_uri": "https://localhost:8080/",
          "height": 424
        },
        "id": "iyJjNdWgewS2",
        "outputId": "d8558762-da8f-4a41-a89f-821d61f0da6e"
      },
      "execution_count": 3,
      "outputs": [
        {
          "output_type": "execute_result",
          "data": {
            "text/html": [
              "\n",
              "  <div id=\"df-89aac444-54d7-4cca-9e89-88673ecd7f77\">\n",
              "    <div class=\"colab-df-container\">\n",
              "      <div>\n",
              "<style scoped>\n",
              "    .dataframe tbody tr th:only-of-type {\n",
              "        vertical-align: middle;\n",
              "    }\n",
              "\n",
              "    .dataframe tbody tr th {\n",
              "        vertical-align: top;\n",
              "    }\n",
              "\n",
              "    .dataframe thead th {\n",
              "        text-align: right;\n",
              "    }\n",
              "</style>\n",
              "<table border=\"1\" class=\"dataframe\">\n",
              "  <thead>\n",
              "    <tr style=\"text-align: right;\">\n",
              "      <th></th>\n",
              "      <th>eng</th>\n",
              "      <th>ar</th>\n",
              "    </tr>\n",
              "  </thead>\n",
              "  <tbody>\n",
              "    <tr>\n",
              "      <th>0</th>\n",
              "      <td>Hi.</td>\n",
              "      <td>مرحبًا.</td>\n",
              "    </tr>\n",
              "    <tr>\n",
              "      <th>1</th>\n",
              "      <td>Run!</td>\n",
              "      <td>اركض!</td>\n",
              "    </tr>\n",
              "    <tr>\n",
              "      <th>2</th>\n",
              "      <td>Help!</td>\n",
              "      <td>النجدة!</td>\n",
              "    </tr>\n",
              "    <tr>\n",
              "      <th>3</th>\n",
              "      <td>Jump!</td>\n",
              "      <td>اقفز!</td>\n",
              "    </tr>\n",
              "    <tr>\n",
              "      <th>4</th>\n",
              "      <td>Stop!</td>\n",
              "      <td>قف!</td>\n",
              "    </tr>\n",
              "    <tr>\n",
              "      <th>...</th>\n",
              "      <td>...</td>\n",
              "      <td>...</td>\n",
              "    </tr>\n",
              "    <tr>\n",
              "      <th>24633</th>\n",
              "      <td>rising voices promoting a more linguistically ...</td>\n",
              "      <td>شاركنا تحدي ابداع ميم بلغتك الام تعزيزا للتنوع...</td>\n",
              "    </tr>\n",
              "    <tr>\n",
              "      <th>24634</th>\n",
              "      <td>following last year s successful campaign we i...</td>\n",
              "      <td>استكمالا لنجاح حملة العام السابق ندعوكم للمشار...</td>\n",
              "    </tr>\n",
              "    <tr>\n",
              "      <th>24635</th>\n",
              "      <td>during last year s challenge we also met langu...</td>\n",
              "      <td>تعرفنا خلال تحدي العام الماضي على ابطال لغويين...</td>\n",
              "    </tr>\n",
              "    <tr>\n",
              "      <th>24636</th>\n",
              "      <td>to take part just follow the simple steps outl...</td>\n",
              "      <td>للمشاركة في التحدي اتبع الخطوات الموضحة على ال...</td>\n",
              "    </tr>\n",
              "    <tr>\n",
              "      <th>24637</th>\n",
              "      <td>you will also find links to some free web base...</td>\n",
              "      <td>ستجد ايضا روابط لمجموعة من منصات ابداع الميم ا...</td>\n",
              "    </tr>\n",
              "  </tbody>\n",
              "</table>\n",
              "<p>24638 rows × 2 columns</p>\n",
              "</div>\n",
              "      <button class=\"colab-df-convert\" onclick=\"convertToInteractive('df-89aac444-54d7-4cca-9e89-88673ecd7f77')\"\n",
              "              title=\"Convert this dataframe to an interactive table.\"\n",
              "              style=\"display:none;\">\n",
              "        \n",
              "  <svg xmlns=\"http://www.w3.org/2000/svg\" height=\"24px\"viewBox=\"0 0 24 24\"\n",
              "       width=\"24px\">\n",
              "    <path d=\"M0 0h24v24H0V0z\" fill=\"none\"/>\n",
              "    <path d=\"M18.56 5.44l.94 2.06.94-2.06 2.06-.94-2.06-.94-.94-2.06-.94 2.06-2.06.94zm-11 1L8.5 8.5l.94-2.06 2.06-.94-2.06-.94L8.5 2.5l-.94 2.06-2.06.94zm10 10l.94 2.06.94-2.06 2.06-.94-2.06-.94-.94-2.06-.94 2.06-2.06.94z\"/><path d=\"M17.41 7.96l-1.37-1.37c-.4-.4-.92-.59-1.43-.59-.52 0-1.04.2-1.43.59L10.3 9.45l-7.72 7.72c-.78.78-.78 2.05 0 2.83L4 21.41c.39.39.9.59 1.41.59.51 0 1.02-.2 1.41-.59l7.78-7.78 2.81-2.81c.8-.78.8-2.07 0-2.86zM5.41 20L4 18.59l7.72-7.72 1.47 1.35L5.41 20z\"/>\n",
              "  </svg>\n",
              "      </button>\n",
              "      \n",
              "  <style>\n",
              "    .colab-df-container {\n",
              "      display:flex;\n",
              "      flex-wrap:wrap;\n",
              "      gap: 12px;\n",
              "    }\n",
              "\n",
              "    .colab-df-convert {\n",
              "      background-color: #E8F0FE;\n",
              "      border: none;\n",
              "      border-radius: 50%;\n",
              "      cursor: pointer;\n",
              "      display: none;\n",
              "      fill: #1967D2;\n",
              "      height: 32px;\n",
              "      padding: 0 0 0 0;\n",
              "      width: 32px;\n",
              "    }\n",
              "\n",
              "    .colab-df-convert:hover {\n",
              "      background-color: #E2EBFA;\n",
              "      box-shadow: 0px 1px 2px rgba(60, 64, 67, 0.3), 0px 1px 3px 1px rgba(60, 64, 67, 0.15);\n",
              "      fill: #174EA6;\n",
              "    }\n",
              "\n",
              "    [theme=dark] .colab-df-convert {\n",
              "      background-color: #3B4455;\n",
              "      fill: #D2E3FC;\n",
              "    }\n",
              "\n",
              "    [theme=dark] .colab-df-convert:hover {\n",
              "      background-color: #434B5C;\n",
              "      box-shadow: 0px 1px 3px 1px rgba(0, 0, 0, 0.15);\n",
              "      filter: drop-shadow(0px 1px 2px rgba(0, 0, 0, 0.3));\n",
              "      fill: #FFFFFF;\n",
              "    }\n",
              "  </style>\n",
              "\n",
              "      <script>\n",
              "        const buttonEl =\n",
              "          document.querySelector('#df-89aac444-54d7-4cca-9e89-88673ecd7f77 button.colab-df-convert');\n",
              "        buttonEl.style.display =\n",
              "          google.colab.kernel.accessAllowed ? 'block' : 'none';\n",
              "\n",
              "        async function convertToInteractive(key) {\n",
              "          const element = document.querySelector('#df-89aac444-54d7-4cca-9e89-88673ecd7f77');\n",
              "          const dataTable =\n",
              "            await google.colab.kernel.invokeFunction('convertToInteractive',\n",
              "                                                     [key], {});\n",
              "          if (!dataTable) return;\n",
              "\n",
              "          const docLinkHtml = 'Like what you see? Visit the ' +\n",
              "            '<a target=\"_blank\" href=https://colab.research.google.com/notebooks/data_table.ipynb>data table notebook</a>'\n",
              "            + ' to learn more about interactive tables.';\n",
              "          element.innerHTML = '';\n",
              "          dataTable['output_type'] = 'display_data';\n",
              "          await google.colab.output.renderOutput(dataTable, element);\n",
              "          const docLink = document.createElement('div');\n",
              "          docLink.innerHTML = docLinkHtml;\n",
              "          element.appendChild(docLink);\n",
              "        }\n",
              "      </script>\n",
              "    </div>\n",
              "  </div>\n",
              "  "
            ],
            "text/plain": [
              "                                                     eng                                                 ar\n",
              "0                                                    Hi.                                            مرحبًا.\n",
              "1                                                   Run!                                              اركض!\n",
              "2                                                  Help!                                            النجدة!\n",
              "3                                                  Jump!                                              اقفز!\n",
              "4                                                  Stop!                                                قف!\n",
              "...                                                  ...                                                ...\n",
              "24633  rising voices promoting a more linguistically ...  شاركنا تحدي ابداع ميم بلغتك الام تعزيزا للتنوع...\n",
              "24634  following last year s successful campaign we i...  استكمالا لنجاح حملة العام السابق ندعوكم للمشار...\n",
              "24635  during last year s challenge we also met langu...  تعرفنا خلال تحدي العام الماضي على ابطال لغويين...\n",
              "24636  to take part just follow the simple steps outl...  للمشاركة في التحدي اتبع الخطوات الموضحة على ال...\n",
              "24637  you will also find links to some free web base...  ستجد ايضا روابط لمجموعة من منصات ابداع الميم ا...\n",
              "\n",
              "[24638 rows x 2 columns]"
            ]
          },
          "metadata": {},
          "execution_count": 3
        }
      ]
    },
    {
      "cell_type": "code",
      "source": [
        "arabic = df1['ar']\n",
        "arabic"
      ],
      "metadata": {
        "colab": {
          "base_uri": "https://localhost:8080/"
        },
        "id": "9etFWKkojRX7",
        "outputId": "398444ec-b888-4a2c-e40a-4ea34073d630"
      },
      "execution_count": 4,
      "outputs": [
        {
          "output_type": "execute_result",
          "data": {
            "text/plain": [
              "0                                                  مرحبًا.\n",
              "1                                                    اركض!\n",
              "2                                                  النجدة!\n",
              "3                                                    اقفز!\n",
              "4                                                      قف!\n",
              "                               ...                        \n",
              "24633    شاركنا تحدي ابداع ميم بلغتك الام تعزيزا للتنوع...\n",
              "24634    استكمالا لنجاح حملة العام السابق ندعوكم للمشار...\n",
              "24635    تعرفنا خلال تحدي العام الماضي على ابطال لغويين...\n",
              "24636    للمشاركة في التحدي اتبع الخطوات الموضحة على ال...\n",
              "24637    ستجد ايضا روابط لمجموعة من منصات ابداع الميم ا...\n",
              "Name: ar, Length: 24638, dtype: object"
            ]
          },
          "metadata": {},
          "execution_count": 4
        }
      ]
    },
    {
      "cell_type": "code",
      "source": [
        "english = df1['eng']\n",
        "english"
      ],
      "metadata": {
        "colab": {
          "base_uri": "https://localhost:8080/"
        },
        "id": "pU8-JCIujcyO",
        "outputId": "b0e4a2ba-baee-45ce-8169-3c92451cc37b"
      },
      "execution_count": 5,
      "outputs": [
        {
          "output_type": "execute_result",
          "data": {
            "text/plain": [
              "0                                                      Hi.\n",
              "1                                                     Run!\n",
              "2                                                    Help!\n",
              "3                                                    Jump!\n",
              "4                                                    Stop!\n",
              "                               ...                        \n",
              "24633    rising voices promoting a more linguistically ...\n",
              "24634    following last year s successful campaign we i...\n",
              "24635    during last year s challenge we also met langu...\n",
              "24636    to take part just follow the simple steps outl...\n",
              "24637    you will also find links to some free web base...\n",
              "Name: eng, Length: 24638, dtype: object"
            ]
          },
          "metadata": {},
          "execution_count": 5
        }
      ]
    },
    {
      "cell_type": "code",
      "source": [
        "df1.shape"
      ],
      "metadata": {
        "colab": {
          "base_uri": "https://localhost:8080/"
        },
        "id": "yApe-8BJk1UD",
        "outputId": "914a878d-fc88-49fe-841d-4ad6210d2bdf"
      },
      "execution_count": 9,
      "outputs": [
        {
          "output_type": "execute_result",
          "data": {
            "text/plain": [
              "(24638, 2)"
            ]
          },
          "metadata": {},
          "execution_count": 9
        }
      ]
    },
    {
      "cell_type": "code",
      "source": [
        ""
      ],
      "metadata": {
        "id": "90I4FgPSl_DB"
      },
      "execution_count": null,
      "outputs": []
    }
  ]
}