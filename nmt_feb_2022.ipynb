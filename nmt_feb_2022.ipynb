{
  "nbformat": 4,
  "nbformat_minor": 0,
  "metadata": {
    "colab": {
      "name": "nmt-feb-2022.ipynb",
      "provenance": [],
      "collapsed_sections": [],
      "mount_file_id": "1SXkcJhR1jq0xA1hkufDxlFdXg3W50Ylr",
      "authorship_tag": "ABX9TyPlbtOoToc5sTRggUhofoVr",
      "include_colab_link": true
    },
    "kernelspec": {
      "name": "python3",
      "display_name": "Python 3"
    },
    "language_info": {
      "name": "python"
    }
  },
  "cells": [
    {
      "cell_type": "markdown",
      "metadata": {
        "id": "view-in-github",
        "colab_type": "text"
      },
      "source": [
        "<a href=\"https://colab.research.google.com/github/navilindo/IUA/blob/main/nmt_feb_2022.ipynb\" target=\"_parent\"><img src=\"https://colab.research.google.com/assets/colab-badge.svg\" alt=\"Open In Colab\"/></a>"
      ]
    },
    {
      "cell_type": "code",
      "execution_count": 1,
      "metadata": {
        "id": "q0DbA7fCeswk"
      },
      "outputs": [],
      "source": [
        "import pandas as pd\n",
        "import numpy as np \n",
        "import string"
      ]
    },
    {
      "cell_type": "code",
      "source": [
        "# using pandas to reas and open data\n",
        "df1 = pd.read_csv(\"/content/drive/MyDrive/Colab Notebooks/nlp-data/short/arabic_english.txt\",delimiter=\"\\t\",names=[\"eng\",\"ar\"])\n",
        "df1"
      ],
      "metadata": {
        "colab": {
          "base_uri": "https://localhost:8080/",
          "height": 424
        },
        "id": "iyJjNdWgewS2",
        "outputId": "349ab97b-577d-4a3e-dbe6-9b877b6c518a"
      },
      "execution_count": 2,
      "outputs": [
        {
          "output_type": "execute_result",
          "data": {
            "text/html": [
              "\n",
              "  <div id=\"df-d1b3c5ac-76c4-4b9e-998d-ce8f7eb1e0ef\">\n",
              "    <div class=\"colab-df-container\">\n",
              "      <div>\n",
              "<style scoped>\n",
              "    .dataframe tbody tr th:only-of-type {\n",
              "        vertical-align: middle;\n",
              "    }\n",
              "\n",
              "    .dataframe tbody tr th {\n",
              "        vertical-align: top;\n",
              "    }\n",
              "\n",
              "    .dataframe thead th {\n",
              "        text-align: right;\n",
              "    }\n",
              "</style>\n",
              "<table border=\"1\" class=\"dataframe\">\n",
              "  <thead>\n",
              "    <tr style=\"text-align: right;\">\n",
              "      <th></th>\n",
              "      <th>eng</th>\n",
              "      <th>ar</th>\n",
              "    </tr>\n",
              "  </thead>\n",
              "  <tbody>\n",
              "    <tr>\n",
              "      <th>0</th>\n",
              "      <td>Hi.</td>\n",
              "      <td>مرحبًا.</td>\n",
              "    </tr>\n",
              "    <tr>\n",
              "      <th>1</th>\n",
              "      <td>Run!</td>\n",
              "      <td>اركض!</td>\n",
              "    </tr>\n",
              "    <tr>\n",
              "      <th>2</th>\n",
              "      <td>Help!</td>\n",
              "      <td>النجدة!</td>\n",
              "    </tr>\n",
              "    <tr>\n",
              "      <th>3</th>\n",
              "      <td>Jump!</td>\n",
              "      <td>اقفز!</td>\n",
              "    </tr>\n",
              "    <tr>\n",
              "      <th>4</th>\n",
              "      <td>Stop!</td>\n",
              "      <td>قف!</td>\n",
              "    </tr>\n",
              "    <tr>\n",
              "      <th>...</th>\n",
              "      <td>...</td>\n",
              "      <td>...</td>\n",
              "    </tr>\n",
              "    <tr>\n",
              "      <th>24633</th>\n",
              "      <td>rising voices promoting a more linguistically ...</td>\n",
              "      <td>شاركنا تحدي ابداع ميم بلغتك الام تعزيزا للتنوع...</td>\n",
              "    </tr>\n",
              "    <tr>\n",
              "      <th>24634</th>\n",
              "      <td>following last year s successful campaign we i...</td>\n",
              "      <td>استكمالا لنجاح حملة العام السابق ندعوكم للمشار...</td>\n",
              "    </tr>\n",
              "    <tr>\n",
              "      <th>24635</th>\n",
              "      <td>during last year s challenge we also met langu...</td>\n",
              "      <td>تعرفنا خلال تحدي العام الماضي على ابطال لغويين...</td>\n",
              "    </tr>\n",
              "    <tr>\n",
              "      <th>24636</th>\n",
              "      <td>to take part just follow the simple steps outl...</td>\n",
              "      <td>للمشاركة في التحدي اتبع الخطوات الموضحة على ال...</td>\n",
              "    </tr>\n",
              "    <tr>\n",
              "      <th>24637</th>\n",
              "      <td>you will also find links to some free web base...</td>\n",
              "      <td>ستجد ايضا روابط لمجموعة من منصات ابداع الميم ا...</td>\n",
              "    </tr>\n",
              "  </tbody>\n",
              "</table>\n",
              "<p>24638 rows × 2 columns</p>\n",
              "</div>\n",
              "      <button class=\"colab-df-convert\" onclick=\"convertToInteractive('df-d1b3c5ac-76c4-4b9e-998d-ce8f7eb1e0ef')\"\n",
              "              title=\"Convert this dataframe to an interactive table.\"\n",
              "              style=\"display:none;\">\n",
              "        \n",
              "  <svg xmlns=\"http://www.w3.org/2000/svg\" height=\"24px\"viewBox=\"0 0 24 24\"\n",
              "       width=\"24px\">\n",
              "    <path d=\"M0 0h24v24H0V0z\" fill=\"none\"/>\n",
              "    <path d=\"M18.56 5.44l.94 2.06.94-2.06 2.06-.94-2.06-.94-.94-2.06-.94 2.06-2.06.94zm-11 1L8.5 8.5l.94-2.06 2.06-.94-2.06-.94L8.5 2.5l-.94 2.06-2.06.94zm10 10l.94 2.06.94-2.06 2.06-.94-2.06-.94-.94-2.06-.94 2.06-2.06.94z\"/><path d=\"M17.41 7.96l-1.37-1.37c-.4-.4-.92-.59-1.43-.59-.52 0-1.04.2-1.43.59L10.3 9.45l-7.72 7.72c-.78.78-.78 2.05 0 2.83L4 21.41c.39.39.9.59 1.41.59.51 0 1.02-.2 1.41-.59l7.78-7.78 2.81-2.81c.8-.78.8-2.07 0-2.86zM5.41 20L4 18.59l7.72-7.72 1.47 1.35L5.41 20z\"/>\n",
              "  </svg>\n",
              "      </button>\n",
              "      \n",
              "  <style>\n",
              "    .colab-df-container {\n",
              "      display:flex;\n",
              "      flex-wrap:wrap;\n",
              "      gap: 12px;\n",
              "    }\n",
              "\n",
              "    .colab-df-convert {\n",
              "      background-color: #E8F0FE;\n",
              "      border: none;\n",
              "      border-radius: 50%;\n",
              "      cursor: pointer;\n",
              "      display: none;\n",
              "      fill: #1967D2;\n",
              "      height: 32px;\n",
              "      padding: 0 0 0 0;\n",
              "      width: 32px;\n",
              "    }\n",
              "\n",
              "    .colab-df-convert:hover {\n",
              "      background-color: #E2EBFA;\n",
              "      box-shadow: 0px 1px 2px rgba(60, 64, 67, 0.3), 0px 1px 3px 1px rgba(60, 64, 67, 0.15);\n",
              "      fill: #174EA6;\n",
              "    }\n",
              "\n",
              "    [theme=dark] .colab-df-convert {\n",
              "      background-color: #3B4455;\n",
              "      fill: #D2E3FC;\n",
              "    }\n",
              "\n",
              "    [theme=dark] .colab-df-convert:hover {\n",
              "      background-color: #434B5C;\n",
              "      box-shadow: 0px 1px 3px 1px rgba(0, 0, 0, 0.15);\n",
              "      filter: drop-shadow(0px 1px 2px rgba(0, 0, 0, 0.3));\n",
              "      fill: #FFFFFF;\n",
              "    }\n",
              "  </style>\n",
              "\n",
              "      <script>\n",
              "        const buttonEl =\n",
              "          document.querySelector('#df-d1b3c5ac-76c4-4b9e-998d-ce8f7eb1e0ef button.colab-df-convert');\n",
              "        buttonEl.style.display =\n",
              "          google.colab.kernel.accessAllowed ? 'block' : 'none';\n",
              "\n",
              "        async function convertToInteractive(key) {\n",
              "          const element = document.querySelector('#df-d1b3c5ac-76c4-4b9e-998d-ce8f7eb1e0ef');\n",
              "          const dataTable =\n",
              "            await google.colab.kernel.invokeFunction('convertToInteractive',\n",
              "                                                     [key], {});\n",
              "          if (!dataTable) return;\n",
              "\n",
              "          const docLinkHtml = 'Like what you see? Visit the ' +\n",
              "            '<a target=\"_blank\" href=https://colab.research.google.com/notebooks/data_table.ipynb>data table notebook</a>'\n",
              "            + ' to learn more about interactive tables.';\n",
              "          element.innerHTML = '';\n",
              "          dataTable['output_type'] = 'display_data';\n",
              "          await google.colab.output.renderOutput(dataTable, element);\n",
              "          const docLink = document.createElement('div');\n",
              "          docLink.innerHTML = docLinkHtml;\n",
              "          element.appendChild(docLink);\n",
              "        }\n",
              "      </script>\n",
              "    </div>\n",
              "  </div>\n",
              "  "
            ],
            "text/plain": [
              "                                                     eng                                                 ar\n",
              "0                                                    Hi.                                            مرحبًا.\n",
              "1                                                   Run!                                              اركض!\n",
              "2                                                  Help!                                            النجدة!\n",
              "3                                                  Jump!                                              اقفز!\n",
              "4                                                  Stop!                                                قف!\n",
              "...                                                  ...                                                ...\n",
              "24633  rising voices promoting a more linguistically ...  شاركنا تحدي ابداع ميم بلغتك الام تعزيزا للتنوع...\n",
              "24634  following last year s successful campaign we i...  استكمالا لنجاح حملة العام السابق ندعوكم للمشار...\n",
              "24635  during last year s challenge we also met langu...  تعرفنا خلال تحدي العام الماضي على ابطال لغويين...\n",
              "24636  to take part just follow the simple steps outl...  للمشاركة في التحدي اتبع الخطوات الموضحة على ال...\n",
              "24637  you will also find links to some free web base...  ستجد ايضا روابط لمجموعة من منصات ابداع الميم ا...\n",
              "\n",
              "[24638 rows x 2 columns]"
            ]
          },
          "metadata": {},
          "execution_count": 2
        }
      ]
    },
    {
      "cell_type": "code",
      "source": [
        "arabic = df1['ar']\n",
        "arabic"
      ],
      "metadata": {
        "colab": {
          "base_uri": "https://localhost:8080/"
        },
        "id": "9etFWKkojRX7",
        "outputId": "d2957b30-1e70-4629-9df5-4284bfe71b8b"
      },
      "execution_count": 3,
      "outputs": [
        {
          "output_type": "execute_result",
          "data": {
            "text/plain": [
              "0                                                  مرحبًا.\n",
              "1                                                    اركض!\n",
              "2                                                  النجدة!\n",
              "3                                                    اقفز!\n",
              "4                                                      قف!\n",
              "                               ...                        \n",
              "24633    شاركنا تحدي ابداع ميم بلغتك الام تعزيزا للتنوع...\n",
              "24634    استكمالا لنجاح حملة العام السابق ندعوكم للمشار...\n",
              "24635    تعرفنا خلال تحدي العام الماضي على ابطال لغويين...\n",
              "24636    للمشاركة في التحدي اتبع الخطوات الموضحة على ال...\n",
              "24637    ستجد ايضا روابط لمجموعة من منصات ابداع الميم ا...\n",
              "Name: ar, Length: 24638, dtype: object"
            ]
          },
          "metadata": {},
          "execution_count": 3
        }
      ]
    },
    {
      "cell_type": "code",
      "source": [
        "english = df1['eng']\n",
        "english"
      ],
      "metadata": {
        "colab": {
          "base_uri": "https://localhost:8080/"
        },
        "id": "pU8-JCIujcyO",
        "outputId": "8831f61e-e783-4804-871b-a24b4ba5298c"
      },
      "execution_count": 4,
      "outputs": [
        {
          "output_type": "execute_result",
          "data": {
            "text/plain": [
              "0                                                      Hi.\n",
              "1                                                     Run!\n",
              "2                                                    Help!\n",
              "3                                                    Jump!\n",
              "4                                                    Stop!\n",
              "                               ...                        \n",
              "24633    rising voices promoting a more linguistically ...\n",
              "24634    following last year s successful campaign we i...\n",
              "24635    during last year s challenge we also met langu...\n",
              "24636    to take part just follow the simple steps outl...\n",
              "24637    you will also find links to some free web base...\n",
              "Name: eng, Length: 24638, dtype: object"
            ]
          },
          "metadata": {},
          "execution_count": 4
        }
      ]
    },
    {
      "cell_type": "code",
      "source": [
        "df1.shape"
      ],
      "metadata": {
        "colab": {
          "base_uri": "https://localhost:8080/"
        },
        "id": "yApe-8BJk1UD",
        "outputId": "22af645d-6fa3-4802-e88b-57b959a357ae"
      },
      "execution_count": 5,
      "outputs": [
        {
          "output_type": "execute_result",
          "data": {
            "text/plain": [
              "(24638, 2)"
            ]
          },
          "metadata": {},
          "execution_count": 5
        }
      ]
    },
    {
      "cell_type": "code",
      "source": [
        "##\n",
        "from tensorflow.keras.preprocessing.text import Tokenizer\n",
        "from tensorflow.keras.preprocessing.sequence import pad_sequences"
      ],
      "metadata": {
        "id": "90I4FgPSl_DB"
      },
      "execution_count": 6,
      "outputs": []
    },
    {
      "cell_type": "code",
      "execution_count": 7,
      "metadata": {
        "id": "FWJHvfLAQxyJ"
      },
      "outputs": [],
      "source": [
        "def clean_sentence(sentence):\n",
        "    # Lower case the sentence\n",
        "    lower_case_sent = sentence.lower()\n",
        "    \n",
        "    # Strip punctuation\n",
        "    string_punctuation = string.punctuation + \"¡\" + '¿'\n",
        "    clean_sentence = lower_case_sent.translate(str.maketrans('', '', string_punctuation))\n",
        "   \n",
        "    return clean_sentence"
      ]
    },
    {
      "cell_type": "code",
      "execution_count": 8,
      "metadata": {
        "id": "yFydRiJyRGWu"
      },
      "outputs": [],
      "source": [
        "def tokenize(sentences):\n",
        "    # Create tokenizer\n",
        "    text_tokenizer = Tokenizer()\n",
        "    # Fit texts\n",
        "    text_tokenizer.fit_on_texts(sentences)\n",
        "    return text_tokenizer.texts_to_sequences(sentences), text_tokenizer"
      ]
    },
    {
      "cell_type": "code",
      "source": [
        "num_sentences = 2000 #for test we put small number but we will change it to 20k\n",
        "\n",
        "# beginning of data loading\n",
        "encoder_inputs = []\n",
        "encoder_outputs = []\n",
        "decoder_inputs = []"
      ],
      "metadata": {
        "id": "zmxQTXQNjt65"
      },
      "execution_count": 15,
      "outputs": []
    },
    {
      "cell_type": "code",
      "source": [
        "count = 0\n",
        "for line in arabic:\n",
        "  count += 1\n",
        "  if count > num_sentences:\n",
        "        break\n",
        "  input_line = line\n",
        "  encoder_inputs.append(input_line)"
      ],
      "metadata": {
        "id": "w5i0nRcYkB0I"
      },
      "execution_count": 16,
      "outputs": []
    },
    {
      "cell_type": "code",
      "source": [
        "count = 0\n",
        "for line in english:\n",
        "  count += 1\n",
        "  if count > num_sentences:\n",
        "        break\n",
        "  output_line = line\n",
        "  encoder_outputs.append(output_line)\n",
        "  decoder_inputs.append(line)"
      ],
      "metadata": {
        "id": "_008sFNhkRQh"
      },
      "execution_count": 17,
      "outputs": []
    },
    {
      "cell_type": "code",
      "source": [
        "## check the encoder inputs, outputs and decoder inputs\n",
        "\n",
        "print(\"sample encoder inputs : \", len(encoder_inputs))\n",
        "print(\"sample encoder outputs : \", len(encoder_outputs))\n",
        "print(\"sample decoder inputs: \", len(decoder_inputs))"
      ],
      "metadata": {
        "colab": {
          "base_uri": "https://localhost:8080/"
        },
        "id": "CKTH8NDDlKD0",
        "outputId": "35f87c72-a49c-41dc-cdca-3e2a4abbe355"
      },
      "execution_count": 18,
      "outputs": [
        {
          "output_type": "stream",
          "name": "stdout",
          "text": [
            "sample encoder inputs :  2000\n",
            "sample encoder outputs :  2000\n",
            "sample decoder inputs:  2000\n"
          ]
        }
      ]
    },
    {
      "cell_type": "code",
      "source": [
        "# test if the sentences are well loaded..\n",
        "\n",
        "print(encoder_inputs[1800])\n",
        "print(encoder_outputs[1800])\n",
        "print(decoder_inputs[14])"
      ],
      "metadata": {
        "colab": {
          "base_uri": "https://localhost:8080/"
        },
        "id": "aNIna2AZmvUu",
        "outputId": "2c408af8-fba7-430e-bb62-f5aef313470c"
      },
      "execution_count": 19,
      "outputs": [
        {
          "output_type": "stream",
          "name": "stdout",
          "text": [
            "و كيف أجبت؟\n",
            "How did you reply?\n",
            "Cheers!\n"
          ]
        }
      ]
    },
    {
      "cell_type": "code",
      "source": [
        "# cleaning Arabic sentences \n",
        "arab_sents = []\n",
        "\n",
        "for in_sent in encoder_inputs:\n",
        "  sent = clean_sentence(in_sent)\n",
        "  arab_sents.append(sent)"
      ],
      "metadata": {
        "id": "F9PyxEcFnTHg"
      },
      "execution_count": 20,
      "outputs": []
    },
    {
      "cell_type": "code",
      "source": [
        "# cleaning english sentences\n",
        "eng_sents = []\n",
        "\n",
        "for out_sent in encoder_outputs:\n",
        "  sent = clean_sentence(out_sent)\n",
        "  eng_sents.append(sent)"
      ],
      "metadata": {
        "id": "UN2FpjnLnkVD"
      },
      "execution_count": 21,
      "outputs": []
    },
    {
      "cell_type": "code",
      "source": [
        "# tokenizing sentences into words\n",
        "arab_tokens, arab_tokenizer = tokenize(arab_sents)\n",
        "eng_tokens, eng_tokenizer = tokenize(eng_sents) \n",
        "\n",
        "print('Maximum length of Arabic sentence: {}'.format(len(max(arab_tokens,key=len))))\n",
        "print('Maximum length of English sentence: {}'.format(len(max(eng_tokens,key=len))))"
      ],
      "metadata": {
        "colab": {
          "base_uri": "https://localhost:8080/"
        },
        "id": "ebZuw_VdoCyp",
        "outputId": "1610bfdd-57a3-44ad-9d73-12b7799980c2"
      },
      "execution_count": 22,
      "outputs": [
        {
          "output_type": "stream",
          "name": "stdout",
          "text": [
            "Maximum length of Arabic sentence: 7\n",
            "Maximum length of English sentence: 5\n"
          ]
        }
      ]
    },
    {
      "cell_type": "code",
      "source": [
        "# unique language vocabulary\n",
        "\n",
        "arab_vocab = len(arab_tokenizer.word_index) + 1\n",
        "eng_vocab = len(eng_tokenizer.word_index) + 1\n",
        "\n",
        "print(\"The Arabic vocabulary is of {} unique words\".format(arab_vocab))\n",
        "print(\"The English vocabulary is of {} unique words\".format(eng_vocab))"
      ],
      "metadata": {
        "colab": {
          "base_uri": "https://localhost:8080/"
        },
        "id": "mIMC1P2to95_",
        "outputId": "d8db490a-e226-49c8-f105-2bff29578706"
      },
      "execution_count": 23,
      "outputs": [
        {
          "output_type": "stream",
          "name": "stdout",
          "text": [
            "The Arabic vocabulary is of 2099 unique words\n",
            "The English vocabulary is of 995 unique words\n"
          ]
        }
      ]
    },
    {
      "cell_type": "code",
      "source": [
        "from tensorflow.keras.preprocessing.sequence import pad_sequences\n",
        "\n",
        "# padding to produce same length of encoder input sentences\n",
        "\n",
        "arab_max_len = int(len(max(arab_tokens, key=len)))\n",
        "eng_max_len = int(len(max(eng_tokens, key=len)))\n",
        "\n",
        "arab_padded_sentences = pad_sequences(arab_tokens, arab_max_len, padding = \"post\")\n",
        "eng_padded_sentences = pad_sequences(eng_tokens, eng_max_len, padding = \"post\")"
      ],
      "metadata": {
        "id": "pTepVXExpiSu"
      },
      "execution_count": 24,
      "outputs": []
    },
    {
      "cell_type": "code",
      "source": [
        "# Reshaping data\n",
        "\n",
        "arab_padded_sentences = arab_padded_sentences.reshape(*arab_padded_sentences.shape, 1)\n",
        "eng_padded_sentences = eng_padded_sentences.reshape(*eng_padded_sentences.shape, 1)"
      ],
      "metadata": {
        "id": "G0OoQ24fp0Yl"
      },
      "execution_count": 25,
      "outputs": []
    },
    {
      "cell_type": "code",
      "source": [
        "from tensorflow.keras.models import Model\n",
        "from tensorflow.keras.layers import LSTM, Input, TimeDistributed, Dense, Activation, RepeatVector, Embedding"
      ],
      "metadata": {
        "id": "FDH00ThtqYe2"
      },
      "execution_count": 26,
      "outputs": []
    },
    {
      "cell_type": "code",
      "source": [
        "# embedding our input layer\n",
        "\n",
        "input_sequence = Input(shape=(arab_max_len,))\n",
        "embedding = Embedding(input_dim=arab_vocab, output_dim=128,)(input_sequence)"
      ],
      "metadata": {
        "id": "czO8Tss_rB6u"
      },
      "execution_count": 27,
      "outputs": []
    },
    {
      "cell_type": "code",
      "source": [
        "# optimizers and losses\n",
        "\n",
        "from tensorflow.keras.optimizers import Adam\n",
        "from tensorflow.keras.losses import sparse_categorical_crossentropy"
      ],
      "metadata": {
        "id": "ZuLP3NasrQTC"
      },
      "execution_count": 29,
      "outputs": []
    }
  ]
}